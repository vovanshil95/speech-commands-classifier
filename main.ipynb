{
 "cells": [
  {
   "cell_type": "code",
   "execution_count": null,
   "id": "bd499dc1-f3b7-4260-9df1-564488f7b997",
   "metadata": {},
   "outputs": [
    {
     "name": "stdout",
     "output_type": "stream",
     "text": [
      "Looking in indexes: https://pypi.org/simple, https://pypi.ngc.nvidia.com\n",
      "Requirement already satisfied: numpy==1.26.4 in /home/vshilonosov/miniconda3/lib/python3.12/site-packages (1.26.4)\n",
      "^C\n",
      "Traceback (most recent call last):\n",
      "  File \"/home/vshilonosov/miniconda3/bin/pip\", line 11, in <module>\n",
      "    sys.exit(main())\n",
      "             ^^^^^^\n",
      "  File \"/home/vshilonosov/miniconda3/lib/python3.12/site-packages/pip/_internal/cli/main.py\", line 79, in main\n",
      "    return command.main(cmd_args)\n",
      "           ^^^^^^^^^^^^^^^^^^^^^^\n",
      "  File \"/home/vshilonosov/miniconda3/lib/python3.12/site-packages/pip/_internal/cli/base_command.py\", line 101, in main\n",
      "    return self._main(args)\n",
      "           ^^^^^^^^^^^^^^^^\n",
      "  File \"/home/vshilonosov/miniconda3/lib/python3.12/site-packages/pip/_internal/cli/base_command.py\", line 236, in _main\n",
      "    self.handle_pip_version_check(options)\n",
      "  File \"/home/vshilonosov/miniconda3/lib/python3.12/site-packages/pip/_internal/cli/req_command.py\", line 188, in handle_pip_version_check\n",
      "    pip_self_version_check(session, options)\n",
      "  File \"/home/vshilonosov/miniconda3/lib/python3.12/site-packages/pip/_internal/self_outdated_check.py\", line 236, in pip_self_version_check\n",
      "    upgrade_prompt = _self_version_check_logic(\n",
      "                     ^^^^^^^^^^^^^^^^^^^^^^^^^^\n",
      "  File \"/home/vshilonosov/miniconda3/lib/python3.12/site-packages/pip/_internal/self_outdated_check.py\", line 199, in _self_version_check_logic\n",
      "    remote_version_str = get_remote_version()\n",
      "                         ^^^^^^^^^^^^^^^^^^^^\n",
      "  File \"/home/vshilonosov/miniconda3/lib/python3.12/site-packages/pip/_internal/self_outdated_check.py\", line 183, in _get_current_remote_pip_version\n",
      "    best_candidate = finder.find_best_candidate(\"pip\").best_candidate\n",
      "                     ^^^^^^^^^^^^^^^^^^^^^^^^^^^^^^^^^\n",
      "  File \"/home/vshilonosov/miniconda3/lib/python3.12/site-packages/pip/_internal/index/package_finder.py\", line 890, in find_best_candidate\n",
      "    candidates = self.find_all_candidates(project_name)\n",
      "                 ^^^^^^^^^^^^^^^^^^^^^^^^^^^^^^^^^^^^^^\n",
      "  File \"/home/vshilonosov/miniconda3/lib/python3.12/site-packages/pip/_internal/index/package_finder.py\", line 831, in find_all_candidates\n",
      "    page_candidates = list(page_candidates_it)\n",
      "                      ^^^^^^^^^^^^^^^^^^^^^^^^\n",
      "  File \"/home/vshilonosov/miniconda3/lib/python3.12/site-packages/pip/_internal/index/sources.py\", line 194, in page_candidates\n",
      "    yield from self._candidates_from_page(self._link)\n",
      "               ^^^^^^^^^^^^^^^^^^^^^^^^^^^^^^^^^^^^^^\n",
      "  File \"/home/vshilonosov/miniconda3/lib/python3.12/site-packages/pip/_internal/index/package_finder.py\", line 791, in process_project_url\n",
      "    index_response = self._link_collector.fetch_response(project_url)\n",
      "                     ^^^^^^^^^^^^^^^^^^^^^^^^^^^^^^^^^^^^^^^^^^^^^^^^\n",
      "  File \"/home/vshilonosov/miniconda3/lib/python3.12/site-packages/pip/_internal/index/collector.py\", line 461, in fetch_response\n",
      "    return _get_index_content(location, session=self.session)\n",
      "           ^^^^^^^^^^^^^^^^^^^^^^^^^^^^^^^^^^^^^^^^^^^^^^^^^^\n",
      "  File \"/home/vshilonosov/miniconda3/lib/python3.12/site-packages/pip/_internal/index/collector.py\", line 364, in _get_index_content\n",
      "    resp = _get_simple_response(url, session=session)\n",
      "           ^^^^^^^^^^^^^^^^^^^^^^^^^^^^^^^^^^^^^^^^^^\n",
      "  File \"/home/vshilonosov/miniconda3/lib/python3.12/site-packages/pip/_internal/index/collector.py\", line 135, in _get_simple_response\n",
      "    resp = session.get(\n",
      "           ^^^^^^^^^^^^\n",
      "  File \"/home/vshilonosov/miniconda3/lib/python3.12/site-packages/pip/_vendor/requests/sessions.py\", line 602, in get\n",
      "    return self.request(\"GET\", url, **kwargs)\n",
      "           ^^^^^^^^^^^^^^^^^^^^^^^^^^^^^^^^^^\n",
      "  File \"/home/vshilonosov/miniconda3/lib/python3.12/site-packages/pip/_internal/network/session.py\", line 520, in request\n",
      "    return super().request(method, url, *args, **kwargs)\n",
      "           ^^^^^^^^^^^^^^^^^^^^^^^^^^^^^^^^^^^^^^^^^^^^^\n",
      "  File \"/home/vshilonosov/miniconda3/lib/python3.12/site-packages/pip/_vendor/requests/sessions.py\", line 589, in request\n",
      "    resp = self.send(prep, **send_kwargs)\n",
      "           ^^^^^^^^^^^^^^^^^^^^^^^^^^^^^^\n",
      "  File \"/home/vshilonosov/miniconda3/lib/python3.12/site-packages/pip/_vendor/requests/sessions.py\", line 747, in send\n",
      "    r.content\n",
      "  File \"/home/vshilonosov/miniconda3/lib/python3.12/site-packages/pip/_vendor/requests/models.py\", line 899, in content\n",
      "    self._content = b\"\".join(self.iter_content(CONTENT_CHUNK_SIZE)) or b\"\"\n",
      "                    ^^^^^^^^^^^^^^^^^^^^^^^^^^^^^^^^^^^^^^^^^^^^^^^\n",
      "  File \"/home/vshilonosov/miniconda3/lib/python3.12/site-packages/pip/_vendor/requests/models.py\", line 816, in generate\n",
      "    yield from self.raw.stream(chunk_size, decode_content=True)\n",
      "  File \"/home/vshilonosov/miniconda3/lib/python3.12/site-packages/pip/_vendor/urllib3/response.py\", line 622, in stream\n",
      "    data = self.read(amt=amt, decode_content=decode_content)\n",
      "           ^^^^^^^^^^^^^^^^^^^^^^^^^^^^^^^^^^^^^^^^^^^^^^^^^\n",
      "  File \"/home/vshilonosov/miniconda3/lib/python3.12/site-packages/pip/_vendor/urllib3/response.py\", line 561, in read\n",
      "    data = self._fp_read(amt) if not fp_closed else b\"\"\n",
      "           ^^^^^^^^^^^^^^^^^^\n",
      "  File \"/home/vshilonosov/miniconda3/lib/python3.12/site-packages/pip/_vendor/urllib3/response.py\", line 527, in _fp_read\n",
      "    return self._fp.read(amt) if amt is not None else self._fp.read()\n",
      "           ^^^^^^^^^^^^^^^^^^\n",
      "  File \"/home/vshilonosov/miniconda3/lib/python3.12/http/client.py\", line 479, in read\n",
      "    s = self.fp.read(amt)\n",
      "        ^^^^^^^^^^^^^^^^^\n",
      "  File \"/home/vshilonosov/miniconda3/lib/python3.12/socket.py\", line 708, in readinto\n",
      "    return self._sock.recv_into(b)\n",
      "           ^^^^^^^^^^^^^^^^^^^^^^^\n",
      "  File \"/home/vshilonosov/miniconda3/lib/python3.12/ssl.py\", line 1252, in recv_into\n",
      "    return self.read(nbytes, buffer)\n",
      "           ^^^^^^^^^^^^^^^^^^^^^^^^^\n",
      "  File \"/home/vshilonosov/miniconda3/lib/python3.12/ssl.py\", line 1104, in read\n",
      "    return self._sslobj.read(len, buffer)\n",
      "           ^^^^^^^^^^^^^^^^^^^^^^^^^^^^^^\n",
      "KeyboardInterrupt\n",
      "Looking in indexes: https://pypi.org/simple, https://pypi.ngc.nvidia.com\n",
      "Requirement already satisfied: datasets==3.2.0 in /home/vshilonosov/miniconda3/lib/python3.12/site-packages (3.2.0)\n",
      "Requirement already satisfied: filelock in /home/vshilonosov/miniconda3/lib/python3.12/site-packages (from datasets==3.2.0) (3.17.0)\n",
      "Requirement already satisfied: numpy>=1.17 in /home/vshilonosov/miniconda3/lib/python3.12/site-packages (from datasets==3.2.0) (1.26.4)\n",
      "Requirement already satisfied: pyarrow>=15.0.0 in /home/vshilonosov/miniconda3/lib/python3.12/site-packages (from datasets==3.2.0) (19.0.0)\n",
      "Requirement already satisfied: dill<0.3.9,>=0.3.0 in /home/vshilonosov/miniconda3/lib/python3.12/site-packages (from datasets==3.2.0) (0.3.8)\n",
      "Requirement already satisfied: pandas in /home/vshilonosov/miniconda3/lib/python3.12/site-packages (from datasets==3.2.0) (2.2.3)\n",
      "Requirement already satisfied: requests>=2.32.2 in /home/vshilonosov/miniconda3/lib/python3.12/site-packages (from datasets==3.2.0) (2.32.3)\n",
      "Requirement already satisfied: tqdm>=4.66.3 in /home/vshilonosov/miniconda3/lib/python3.12/site-packages (from datasets==3.2.0) (4.67.1)\n",
      "Requirement already satisfied: xxhash in /home/vshilonosov/miniconda3/lib/python3.12/site-packages (from datasets==3.2.0) (3.5.0)\n",
      "Requirement already satisfied: multiprocess<0.70.17 in /home/vshilonosov/miniconda3/lib/python3.12/site-packages (from datasets==3.2.0) (0.70.16)\n",
      "Requirement already satisfied: fsspec<=2024.9.0,>=2023.1.0 in /home/vshilonosov/miniconda3/lib/python3.12/site-packages (from fsspec[http]<=2024.9.0,>=2023.1.0->datasets==3.2.0) (2024.9.0)\n",
      "Requirement already satisfied: aiohttp in /home/vshilonosov/miniconda3/lib/python3.12/site-packages (from datasets==3.2.0) (3.11.11)\n",
      "Requirement already satisfied: huggingface-hub>=0.23.0 in /home/vshilonosov/miniconda3/lib/python3.12/site-packages (from datasets==3.2.0) (0.28.0)\n",
      "Requirement already satisfied: packaging in /home/vshilonosov/miniconda3/lib/python3.12/site-packages (from datasets==3.2.0) (24.2)\n",
      "Requirement already satisfied: pyyaml>=5.1 in /home/vshilonosov/miniconda3/lib/python3.12/site-packages (from datasets==3.2.0) (6.0.2)\n",
      "Requirement already satisfied: aiohappyeyeballs>=2.3.0 in /home/vshilonosov/miniconda3/lib/python3.12/site-packages (from aiohttp->datasets==3.2.0) (2.4.4)\n",
      "Requirement already satisfied: aiosignal>=1.1.2 in /home/vshilonosov/miniconda3/lib/python3.12/site-packages (from aiohttp->datasets==3.2.0) (1.3.2)\n",
      "Requirement already satisfied: attrs>=17.3.0 in /home/vshilonosov/miniconda3/lib/python3.12/site-packages (from aiohttp->datasets==3.2.0) (25.1.0)\n",
      "Requirement already satisfied: frozenlist>=1.1.1 in /home/vshilonosov/miniconda3/lib/python3.12/site-packages (from aiohttp->datasets==3.2.0) (1.5.0)\n",
      "Requirement already satisfied: multidict<7.0,>=4.5 in /home/vshilonosov/miniconda3/lib/python3.12/site-packages (from aiohttp->datasets==3.2.0) (6.1.0)\n",
      "Requirement already satisfied: propcache>=0.2.0 in /home/vshilonosov/miniconda3/lib/python3.12/site-packages (from aiohttp->datasets==3.2.0) (0.2.1)\n",
      "Requirement already satisfied: yarl<2.0,>=1.17.0 in /home/vshilonosov/miniconda3/lib/python3.12/site-packages (from aiohttp->datasets==3.2.0) (1.18.3)\n",
      "Requirement already satisfied: typing-extensions>=3.7.4.3 in /home/vshilonosov/miniconda3/lib/python3.12/site-packages (from huggingface-hub>=0.23.0->datasets==3.2.0) (4.12.2)\n",
      "Requirement already satisfied: charset-normalizer<4,>=2 in /home/vshilonosov/miniconda3/lib/python3.12/site-packages (from requests>=2.32.2->datasets==3.2.0) (3.4.1)\n",
      "Requirement already satisfied: idna<4,>=2.5 in /home/vshilonosov/miniconda3/lib/python3.12/site-packages (from requests>=2.32.2->datasets==3.2.0) (3.10)\n",
      "Requirement already satisfied: urllib3<3,>=1.21.1 in /home/vshilonosov/miniconda3/lib/python3.12/site-packages (from requests>=2.32.2->datasets==3.2.0) (2.3.0)\n",
      "Requirement already satisfied: certifi>=2017.4.17 in /home/vshilonosov/miniconda3/lib/python3.12/site-packages (from requests>=2.32.2->datasets==3.2.0) (2024.12.14)\n",
      "Requirement already satisfied: python-dateutil>=2.8.2 in /home/vshilonosov/miniconda3/lib/python3.12/site-packages (from pandas->datasets==3.2.0) (2.9.0.post0)\n",
      "Requirement already satisfied: pytz>=2020.1 in /home/vshilonosov/miniconda3/lib/python3.12/site-packages (from pandas->datasets==3.2.0) (2024.2)\n",
      "Requirement already satisfied: tzdata>=2022.7 in /home/vshilonosov/miniconda3/lib/python3.12/site-packages (from pandas->datasets==3.2.0) (2025.1)\n",
      "Requirement already satisfied: six>=1.5 in /home/vshilonosov/miniconda3/lib/python3.12/site-packages (from python-dateutil>=2.8.2->pandas->datasets==3.2.0) (1.17.0)\n"
     ]
    }
   ],
   "source": [
    "!pip install numpy==1.26.4\n",
    "!pip install datasets==3.2.0\n",
    "!pip install transformers==4.11.3\n",
    "!pip install huggingface_hub==0.27.1\n",
    "!pip install evaluate==0.4.3\n",
    "!pip install torchaudio\n",
    "!pip install librosa\n",
    "!pip install jiwer"
   ]
  },
  {
   "cell_type": "code",
   "execution_count": 192,
   "id": "544d5509-e623-4810-b28d-eb30ff892635",
   "metadata": {},
   "outputs": [],
   "source": [
    "from huggingface_hub import notebook_login\n",
    "from datasets import load_dataset, Audio, ClassLabel\n",
    "import evaluate\n",
    "from dotenv import load_dotenv\n",
    "import pandas as pd\n",
    "from IPython.display import display, HTML\n",
    "import IPython.display as ipd\n",
    "from transformers import Wav2Vec2CTCTokenizer, Wav2Vec2ForCTC, Wav2Vec2FeatureExtractor, Wav2Vec2Processor, Trainer\n",
    "import numpy as np\n",
    "import torch\n",
    "\n",
    "from dataclasses import dataclass, field\n",
    "from typing import Any, Dict, List, Optional, Union\n",
    "import os\n",
    "import json\n",
    "import random\n",
    "import re"
   ]
  },
  {
   "cell_type": "code",
   "execution_count": 172,
   "id": "9cffe27b-008d-4d43-9cf5-c95edd472a49",
   "metadata": {},
   "outputs": [
    {
     "data": {
      "application/vnd.jupyter.widget-view+json": {
       "model_id": "e42258dbad74430bb0d1efc102f73305",
       "version_major": 2,
       "version_minor": 0
      },
      "text/plain": [
       "VBox(children=(HTML(value='<center> <img\\nsrc=https://huggingface.co/front/assets/huggingface_logo-noborder.sv…"
      ]
     },
     "metadata": {},
     "output_type": "display_data"
    }
   ],
   "source": [
    "notebook_login()"
   ]
  },
  {
   "cell_type": "code",
   "execution_count": 78,
   "id": "aaf659e9-b564-4b5d-85d0-599df485db8a",
   "metadata": {},
   "outputs": [
    {
     "data": {
      "application/vnd.jupyter.widget-view+json": {
       "model_id": "248ebf93fce84574b15684d9811816d1",
       "version_major": 2,
       "version_minor": 0
      },
      "text/plain": [
       "ru_train_0.tar:   0%|          | 0.00/976M [00:00<?, ?B/s]"
      ]
     },
     "metadata": {},
     "output_type": "display_data"
    },
    {
     "data": {
      "application/vnd.jupyter.widget-view+json": {
       "model_id": "a63cfd99f22a416ebf12d14fda3bae4d",
       "version_major": 2,
       "version_minor": 0
      },
      "text/plain": [
       "ru_dev_0.tar:   0%|          | 0.00/392M [00:00<?, ?B/s]"
      ]
     },
     "metadata": {},
     "output_type": "display_data"
    },
    {
     "data": {
      "application/vnd.jupyter.widget-view+json": {
       "model_id": "cbecb19bc1f842318dcb889dca7237fd",
       "version_major": 2,
       "version_minor": 0
      },
      "text/plain": [
       "ru_test_0.tar:   0%|          | 0.00/397M [00:00<?, ?B/s]"
      ]
     },
     "metadata": {},
     "output_type": "display_data"
    },
    {
     "data": {
      "application/vnd.jupyter.widget-view+json": {
       "model_id": "e2ab03a10c07460aa321df7f4bc9245e",
       "version_major": 2,
       "version_minor": 0
      },
      "text/plain": [
       "ru_other_0.tar:   0%|          | 0.00/597M [00:00<?, ?B/s]"
      ]
     },
     "metadata": {},
     "output_type": "display_data"
    },
    {
     "data": {
      "application/vnd.jupyter.widget-view+json": {
       "model_id": "0cbf3162a8a5446ba5de3062d0c8edf7",
       "version_major": 2,
       "version_minor": 0
      },
      "text/plain": [
       "ru_invalidated_0.tar:   0%|          | 0.00/387M [00:00<?, ?B/s]"
      ]
     },
     "metadata": {},
     "output_type": "display_data"
    },
    {
     "data": {
      "application/vnd.jupyter.widget-view+json": {
       "model_id": "d03cb8bae96d48f5907bad16dbc5855b",
       "version_major": 2,
       "version_minor": 0
      },
      "text/plain": [
       "ru_validated_0.tar:   0%|          | 0.00/1.51G [00:00<?, ?B/s]"
      ]
     },
     "metadata": {},
     "output_type": "display_data"
    },
    {
     "data": {
      "application/vnd.jupyter.widget-view+json": {
       "model_id": "e6816614aa8245e49a058bf3294ed27e",
       "version_major": 2,
       "version_minor": 0
      },
      "text/plain": [
       "ru_validated_1.tar:   0%|          | 0.00/1.43G [00:00<?, ?B/s]"
      ]
     },
     "metadata": {},
     "output_type": "display_data"
    },
    {
     "data": {
      "application/vnd.jupyter.widget-view+json": {
       "model_id": "a03949428b1e411ca3311e5cc9bb0602",
       "version_major": 2,
       "version_minor": 0
      },
      "text/plain": [
       "ru_validated_2.tar:   0%|          | 0.00/1.60G [00:00<?, ?B/s]"
      ]
     },
     "metadata": {},
     "output_type": "display_data"
    },
    {
     "data": {
      "application/vnd.jupyter.widget-view+json": {
       "model_id": "469a71cc6ef0479ba02bccc4422aed3d",
       "version_major": 2,
       "version_minor": 0
      },
      "text/plain": [
       "ru_validated_3.tar:   0%|          | 0.00/1.38G [00:00<?, ?B/s]"
      ]
     },
     "metadata": {},
     "output_type": "display_data"
    },
    {
     "data": {
      "application/vnd.jupyter.widget-view+json": {
       "model_id": "bfe7eb6a91804f88ad4c8964db5ae697",
       "version_major": 2,
       "version_minor": 0
      },
      "text/plain": [
       "ru_validated_4.tar:   0%|          | 0.00/114M [00:00<?, ?B/s]"
      ]
     },
     "metadata": {},
     "output_type": "display_data"
    },
    {
     "data": {
      "application/vnd.jupyter.widget-view+json": {
       "model_id": "b13597b25de046afb4e6d27f908a566c",
       "version_major": 2,
       "version_minor": 0
      },
      "text/plain": [
       "transcript/ru/train.tsv:   0%|          | 0.00/9.85M [00:00<?, ?B/s]"
      ]
     },
     "metadata": {},
     "output_type": "display_data"
    },
    {
     "data": {
      "application/vnd.jupyter.widget-view+json": {
       "model_id": "05a83f26a275440ca569930ca55d5ecf",
       "version_major": 2,
       "version_minor": 0
      },
      "text/plain": [
       "transcript/ru/dev.tsv:   0%|          | 0.00/3.73M [00:00<?, ?B/s]"
      ]
     },
     "metadata": {},
     "output_type": "display_data"
    },
    {
     "data": {
      "application/vnd.jupyter.widget-view+json": {
       "model_id": "eaf93b95ffd042b7aa6b0513a2df2fb9",
       "version_major": 2,
       "version_minor": 0
      },
      "text/plain": [
       "transcript/ru/test.tsv:   0%|          | 0.00/3.64M [00:00<?, ?B/s]"
      ]
     },
     "metadata": {},
     "output_type": "display_data"
    },
    {
     "data": {
      "application/vnd.jupyter.widget-view+json": {
       "model_id": "f4297393bac8435c85109f6acb8a96bf",
       "version_major": 2,
       "version_minor": 0
      },
      "text/plain": [
       "transcript/ru/other.tsv:   0%|          | 0.00/6.55M [00:00<?, ?B/s]"
      ]
     },
     "metadata": {},
     "output_type": "display_data"
    },
    {
     "data": {
      "application/vnd.jupyter.widget-view+json": {
       "model_id": "01bab744e33041ae85da69bcaebbb8bd",
       "version_major": 2,
       "version_minor": 0
      },
      "text/plain": [
       "transcript/ru/invalidated.tsv:   0%|          | 0.00/3.79M [00:00<?, ?B/s]"
      ]
     },
     "metadata": {},
     "output_type": "display_data"
    },
    {
     "data": {
      "application/vnd.jupyter.widget-view+json": {
       "model_id": "8aa544195f8245fea51ab4c6000a153a",
       "version_major": 2,
       "version_minor": 0
      },
      "text/plain": [
       "validated.tsv:   0%|          | 0.00/61.3M [00:00<?, ?B/s]"
      ]
     },
     "metadata": {},
     "output_type": "display_data"
    },
    {
     "data": {
      "application/vnd.jupyter.widget-view+json": {
       "model_id": "6356af04e93b40978035ef83b1cf1218",
       "version_major": 2,
       "version_minor": 0
      },
      "text/plain": [
       "Generating train split: 0 examples [00:00, ? examples/s]"
      ]
     },
     "metadata": {},
     "output_type": "display_data"
    },
    {
     "name": "stderr",
     "output_type": "stream",
     "text": [
      "\n",
      "\u001b[Ading metadata...: 0it [00:00, ?it/s]\n",
      "\u001b[Ading metadata...: 12171it [00:00, 121693.87it/s]\n",
      "Reading metadata...: 26377it [00:00, 129820.95it/s]\n"
     ]
    },
    {
     "data": {
      "application/vnd.jupyter.widget-view+json": {
       "model_id": "af4150572a4b48ae95f7502b06668b87",
       "version_major": 2,
       "version_minor": 0
      },
      "text/plain": [
       "Generating validation split: 0 examples [00:00, ? examples/s]"
      ]
     },
     "metadata": {},
     "output_type": "display_data"
    },
    {
     "name": "stderr",
     "output_type": "stream",
     "text": [
      "\n",
      "Reading metadata...: 10203it [00:00, 143114.83it/s]\n"
     ]
    },
    {
     "data": {
      "application/vnd.jupyter.widget-view+json": {
       "model_id": "8db3915bccd248a4b5cf0d3e4805dc7f",
       "version_major": 2,
       "version_minor": 0
      },
      "text/plain": [
       "Generating test split: 0 examples [00:00, ? examples/s]"
      ]
     },
     "metadata": {},
     "output_type": "display_data"
    },
    {
     "name": "stderr",
     "output_type": "stream",
     "text": [
      "\n",
      "Reading metadata...: 10203it [00:00, 149105.02it/s]\n"
     ]
    },
    {
     "data": {
      "application/vnd.jupyter.widget-view+json": {
       "model_id": "1caea89e93ca4882b61742033b7b077c",
       "version_major": 2,
       "version_minor": 0
      },
      "text/plain": [
       "Generating other split: 0 examples [00:00, ? examples/s]"
      ]
     },
     "metadata": {},
     "output_type": "display_data"
    },
    {
     "name": "stderr",
     "output_type": "stream",
     "text": [
      "\n",
      "\u001b[Ading metadata...: 0it [00:00, ?it/s]\n",
      "Reading metadata...: 17456it [00:00, 129480.70it/s]\n"
     ]
    },
    {
     "data": {
      "application/vnd.jupyter.widget-view+json": {
       "model_id": "6d40c1ea7ca54b2882bce0b3e089419a",
       "version_major": 2,
       "version_minor": 0
      },
      "text/plain": [
       "Generating invalidated split: 0 examples [00:00, ? examples/s]"
      ]
     },
     "metadata": {},
     "output_type": "display_data"
    },
    {
     "name": "stderr",
     "output_type": "stream",
     "text": [
      "\n",
      "Reading metadata...: 10018it [00:00, 139775.25it/s]\n"
     ]
    },
    {
     "data": {
      "application/vnd.jupyter.widget-view+json": {
       "model_id": "3c991b576c484e199bf1e5ebade3d130",
       "version_major": 2,
       "version_minor": 0
      },
      "text/plain": [
       "Generating validated split: 0 examples [00:00, ? examples/s]"
      ]
     },
     "metadata": {},
     "output_type": "display_data"
    },
    {
     "name": "stderr",
     "output_type": "stream",
     "text": [
      "\n",
      "\u001b[Ading metadata...: 0it [00:00, ?it/s]\n",
      "\u001b[Ading metadata...: 15958it [00:00, 159566.08it/s]\n",
      "\u001b[Ading metadata...: 31915it [00:00, 130767.30it/s]\n",
      "\u001b[Ading metadata...: 45315it [00:00, 127289.65it/s]\n",
      "\u001b[Ading metadata...: 58198it [00:00, 123757.51it/s]\n",
      "\u001b[Ading metadata...: 72074it [00:00, 128737.60it/s]\n",
      "\u001b[Ading metadata...: 85042it [00:00, 125619.91it/s]\n",
      "\u001b[Ading metadata...: 97666it [00:00, 125357.15it/s]\n",
      "\u001b[Ading metadata...: 110242it [00:00, 124215.86it/s]\n",
      "\u001b[Ading metadata...: 123981it [00:00, 128187.79it/s]\n",
      "\u001b[Ading metadata...: 136832it [00:01, 126097.04it/s]\n",
      "Reading metadata...: 163387it [00:01, 128540.59it/s]\n"
     ]
    }
   ],
   "source": [
    "common_voice_train = load_dataset(\"mozilla-foundation/common_voice_17_0\", \"ru\", split=\"train+validation\")\n",
    "common_voice_test = load_dataset(\"mozilla-foundation/common_voice_17_0\", \"ru\", split=\"test\")"
   ]
  },
  {
   "cell_type": "code",
   "execution_count": 79,
   "id": "bee40a2a-db2e-461b-a24d-8759a73668dd",
   "metadata": {},
   "outputs": [],
   "source": [
    "common_voice_train = common_voice_train.remove_columns([\"accent\", \"age\", \"client_id\", \"down_votes\", \"gender\", \"locale\", \"segment\", \"up_votes\"])\n",
    "common_voice_test = common_voice_test.remove_columns([\"accent\", \"age\", \"client_id\", \"down_votes\", \"gender\", \"locale\", \"segment\", \"up_votes\"])\n",
    "\n",
    "def show_random_elements(dataset, num_examples=10):\n",
    "    assert num_examples <= len(dataset), \"Can't pick more elements than there are in the dataset.\"\n",
    "    picks = []\n",
    "    for _ in range(num_examples):\n",
    "        pick = random.randint(0, len(dataset)-1)\n",
    "        while pick in picks:\n",
    "            pick = random.randint(0, len(dataset)-1)\n",
    "        picks.append(pick)\n",
    "    \n",
    "    df = pd.DataFrame(dataset[picks])\n",
    "    display(HTML(df.to_html()))"
   ]
  },
  {
   "cell_type": "code",
   "execution_count": 80,
   "id": "9267ca44-b533-4496-9e1e-16bdbdd97005",
   "metadata": {},
   "outputs": [
    {
     "data": {
      "text/html": [
       "<table border=\"1\" class=\"dataframe\">\n",
       "  <thead>\n",
       "    <tr style=\"text-align: right;\">\n",
       "      <th></th>\n",
       "      <th>sentence</th>\n",
       "      <th>variant</th>\n",
       "    </tr>\n",
       "  </thead>\n",
       "  <tbody>\n",
       "    <tr>\n",
       "      <th>0</th>\n",
       "      <td>В Йемене выборы президента Хади стали важной вехой в политическом переходном процессе.</td>\n",
       "      <td></td>\n",
       "    </tr>\n",
       "    <tr>\n",
       "      <th>1</th>\n",
       "      <td>Главный вопрос проистекает из коренных причин подобных подходов.</td>\n",
       "      <td></td>\n",
       "    </tr>\n",
       "    <tr>\n",
       "      <th>2</th>\n",
       "      <td>Я говорил это Аркадию на другой день его приезда и повторяю теперь вам.</td>\n",
       "      <td></td>\n",
       "    </tr>\n",
       "    <tr>\n",
       "      <th>3</th>\n",
       "      <td>Отслеживать состояние ресурсов каждого участника системы</td>\n",
       "      <td></td>\n",
       "    </tr>\n",
       "    <tr>\n",
       "      <th>4</th>\n",
       "      <td>И Япония готова вносить конструктивный вклад в обсуждение этого вопроса.</td>\n",
       "      <td></td>\n",
       "    </tr>\n",
       "    <tr>\n",
       "      <th>5</th>\n",
       "      <td>Мы выслушали этих женщин и были просто поражены.</td>\n",
       "      <td></td>\n",
       "    </tr>\n",
       "    <tr>\n",
       "      <th>6</th>\n",
       "      <td>Мы заслушали последнего оратора из списка ораторов на этом заседании.</td>\n",
       "      <td></td>\n",
       "    </tr>\n",
       "    <tr>\n",
       "      <th>7</th>\n",
       "      <td>Пришло время пойти на риск.</td>\n",
       "      <td></td>\n",
       "    </tr>\n",
       "    <tr>\n",
       "      <th>8</th>\n",
       "      <td>— Проснись и крикни.</td>\n",
       "      <td></td>\n",
       "    </tr>\n",
       "    <tr>\n",
       "      <th>9</th>\n",
       "      <td>Люди увидали в миллион раз больше звезд, или солнц, чем видели раньше.</td>\n",
       "      <td></td>\n",
       "    </tr>\n",
       "  </tbody>\n",
       "</table>"
      ],
      "text/plain": [
       "<IPython.core.display.HTML object>"
      ]
     },
     "metadata": {},
     "output_type": "display_data"
    }
   ],
   "source": [
    "show_random_elements(common_voice_train.remove_columns([\"path\",\"audio\"]))"
   ]
  },
  {
   "cell_type": "code",
   "execution_count": 131,
   "id": "dee6de41-9763-47ac-996b-423cf615290c",
   "metadata": {},
   "outputs": [
    {
     "name": "stderr",
     "output_type": "stream",
     "text": [
      "<>:1: SyntaxWarning: invalid escape sequence '\\,'\n",
      "<>:1: SyntaxWarning: invalid escape sequence '\\,'\n",
      "/tmp/ipykernel_4144880/3899105336.py:1: SyntaxWarning: invalid escape sequence '\\,'\n",
      "  chars_to_remove_regex = '[\\,\\?\\.\\!\\-\\;\\:\\\"\\“\\%\\‘\\”\\�\\'\\’\\…\\(\\)\\—\\−\\„\\‑\\–\\«\\»]'\n"
     ]
    }
   ],
   "source": [
    "chars_to_remove_regex = '[\\,\\?\\.\\!\\-\\;\\:\\\"\\“\\%\\‘\\”\\�\\'\\’\\…\\(\\)\\—\\−\\„\\‑\\–\\«\\»]'\n",
    "\n",
    "def remove_special_characters(batch):\n",
    "    batch[\"sentence\"] = re.sub(chars_to_remove_regex, '', batch[\"sentence\"]).lower()\n",
    "    return batch"
   ]
  },
  {
   "cell_type": "code",
   "execution_count": 132,
   "id": "e7b61f0f-c88c-40a8-b3cb-2d73dde0e0a3",
   "metadata": {},
   "outputs": [
    {
     "data": {
      "application/vnd.jupyter.widget-view+json": {
       "model_id": "562ef5c61acd4428b84692a9c55f4acd",
       "version_major": 2,
       "version_minor": 0
      },
      "text/plain": [
       "Map:   0%|          | 0/36580 [00:00<?, ? examples/s]"
      ]
     },
     "metadata": {},
     "output_type": "display_data"
    },
    {
     "data": {
      "application/vnd.jupyter.widget-view+json": {
       "model_id": "9229423bcb2b48248036917d453cbdba",
       "version_major": 2,
       "version_minor": 0
      },
      "text/plain": [
       "Map:   0%|          | 0/10203 [00:00<?, ? examples/s]"
      ]
     },
     "metadata": {},
     "output_type": "display_data"
    }
   ],
   "source": [
    "common_voice_train = common_voice_train.map(remove_special_characters)\n",
    "common_voice_test = common_voice_test.map(remove_special_characters)"
   ]
  },
  {
   "cell_type": "code",
   "execution_count": 133,
   "id": "04fc1a5a-344d-4ff8-8118-1ddbb3ce7a1a",
   "metadata": {},
   "outputs": [
    {
     "data": {
      "text/html": [
       "<table border=\"1\" class=\"dataframe\">\n",
       "  <thead>\n",
       "    <tr style=\"text-align: right;\">\n",
       "      <th></th>\n",
       "      <th>sentence</th>\n",
       "      <th>variant</th>\n",
       "    </tr>\n",
       "  </thead>\n",
       "  <tbody>\n",
       "    <tr>\n",
       "      <th>0</th>\n",
       "      <td>почти</td>\n",
       "      <td></td>\n",
       "    </tr>\n",
       "    <tr>\n",
       "      <th>1</th>\n",
       "      <td>как не задуматься  отвечал я ему</td>\n",
       "      <td></td>\n",
       "    </tr>\n",
       "    <tr>\n",
       "      <th>2</th>\n",
       "      <td>финансирование остается для нас большой проблемой</td>\n",
       "      <td></td>\n",
       "    </tr>\n",
       "    <tr>\n",
       "      <th>3</th>\n",
       "      <td>а сейчас слово имеет представитель канады</td>\n",
       "      <td></td>\n",
       "    </tr>\n",
       "    <tr>\n",
       "      <th>4</th>\n",
       "      <td>планируется его продолжить</td>\n",
       "      <td></td>\n",
       "    </tr>\n",
       "    <tr>\n",
       "      <th>5</th>\n",
       "      <td>это должно быть прямо закреплено</td>\n",
       "      <td></td>\n",
       "    </tr>\n",
       "    <tr>\n",
       "      <th>6</th>\n",
       "      <td>поэтому мы на самом деле нуждаемся не в поддержании мира а в его укреплении</td>\n",
       "      <td></td>\n",
       "    </tr>\n",
       "    <tr>\n",
       "      <th>7</th>\n",
       "      <td>она два раза прокуковала обычным криком а потом захрипела заторопилась и запуталась</td>\n",
       "      <td></td>\n",
       "    </tr>\n",
       "    <tr>\n",
       "      <th>8</th>\n",
       "      <td>поэтому прямые иностранные инвестиции должны дополняться международным финансовым и техническим сотрудничеством в целях развития</td>\n",
       "      <td></td>\n",
       "    </tr>\n",
       "    <tr>\n",
       "      <th>9</th>\n",
       "      <td>что тебе делать</td>\n",
       "      <td></td>\n",
       "    </tr>\n",
       "  </tbody>\n",
       "</table>"
      ],
      "text/plain": [
       "<IPython.core.display.HTML object>"
      ]
     },
     "metadata": {},
     "output_type": "display_data"
    }
   ],
   "source": [
    "show_random_elements(common_voice_train.remove_columns([\"path\",\"audio\"]))"
   ]
  },
  {
   "cell_type": "code",
   "execution_count": 136,
   "id": "33f15e45-ab23-48ff-9a5b-e00b01f25110",
   "metadata": {},
   "outputs": [],
   "source": [
    "def extract_all_chars(batch):\n",
    "  all_text = \" \".join(batch[\"sentence\"])\n",
    "  vocab = list(set(all_text))\n",
    "  return {\"vocab\": [vocab], \"all_text\": [all_text]}"
   ]
  },
  {
   "cell_type": "code",
   "execution_count": 137,
   "id": "08f9d4b7-1b9e-4c4d-96c4-6f1b3cfe568d",
   "metadata": {},
   "outputs": [
    {
     "data": {
      "application/vnd.jupyter.widget-view+json": {
       "model_id": "034270cacba04ab8942cf119239e5568",
       "version_major": 2,
       "version_minor": 0
      },
      "text/plain": [
       "Map:   0%|          | 0/36580 [00:00<?, ? examples/s]"
      ]
     },
     "metadata": {},
     "output_type": "display_data"
    },
    {
     "data": {
      "application/vnd.jupyter.widget-view+json": {
       "model_id": "70bc061860864b90b7799268526ffa3e",
       "version_major": 2,
       "version_minor": 0
      },
      "text/plain": [
       "Map:   0%|          | 0/10203 [00:00<?, ? examples/s]"
      ]
     },
     "metadata": {},
     "output_type": "display_data"
    }
   ],
   "source": [
    "vocab_train = common_voice_train.map(extract_all_chars, batched=True, batch_size=-1, keep_in_memory=True, remove_columns=common_voice_train.column_names)\n",
    "vocab_test = common_voice_test.map(extract_all_chars, batched=True, batch_size=-1, keep_in_memory=True, remove_columns=common_voice_test.column_names)"
   ]
  },
  {
   "cell_type": "code",
   "execution_count": 138,
   "id": "a3e30655-ac71-48e4-8ee2-62385649c52b",
   "metadata": {},
   "outputs": [],
   "source": [
    "vocab_list = list(set(vocab_train[\"vocab\"][0]) | set(vocab_test[\"vocab\"][0]))"
   ]
  },
  {
   "cell_type": "code",
   "execution_count": 139,
   "id": "888b46c8-5140-4e2e-a96f-7deac401253a",
   "metadata": {},
   "outputs": [
    {
     "data": {
      "text/plain": [
       "{' ': 0,\n",
       " 'a': 1,\n",
       " 'b': 2,\n",
       " 'c': 3,\n",
       " 'e': 4,\n",
       " 'f': 5,\n",
       " 'g': 6,\n",
       " 'h': 7,\n",
       " 'i': 8,\n",
       " 'k': 9,\n",
       " 'l': 10,\n",
       " 'm': 11,\n",
       " 'n': 12,\n",
       " 'o': 13,\n",
       " 'p': 14,\n",
       " 'r': 15,\n",
       " 's': 16,\n",
       " 't': 17,\n",
       " 'x': 18,\n",
       " 'z': 19,\n",
       " 'а': 20,\n",
       " 'б': 21,\n",
       " 'в': 22,\n",
       " 'г': 23,\n",
       " 'д': 24,\n",
       " 'е': 25,\n",
       " 'ж': 26,\n",
       " 'з': 27,\n",
       " 'и': 28,\n",
       " 'й': 29,\n",
       " 'к': 30,\n",
       " 'л': 31,\n",
       " 'м': 32,\n",
       " 'н': 33,\n",
       " 'о': 34,\n",
       " 'п': 35,\n",
       " 'р': 36,\n",
       " 'с': 37,\n",
       " 'т': 38,\n",
       " 'у': 39,\n",
       " 'ф': 40,\n",
       " 'х': 41,\n",
       " 'ц': 42,\n",
       " 'ч': 43,\n",
       " 'ш': 44,\n",
       " 'щ': 45,\n",
       " 'ъ': 46,\n",
       " 'ы': 47,\n",
       " 'ь': 48,\n",
       " 'э': 49,\n",
       " 'ю': 50,\n",
       " 'я': 51,\n",
       " 'ё': 52}"
      ]
     },
     "execution_count": 139,
     "metadata": {},
     "output_type": "execute_result"
    }
   ],
   "source": [
    "vocab_dict = {v: k for k, v in enumerate(sorted(vocab_list))}\n",
    "vocab_dict"
   ]
  },
  {
   "cell_type": "code",
   "execution_count": 140,
   "id": "4efd89a8-1b42-4693-85cd-8e88820e31e2",
   "metadata": {},
   "outputs": [],
   "source": [
    "vocab_dict[\"|\"] = vocab_dict[\" \"]\n",
    "del vocab_dict[\" \"]"
   ]
  },
  {
   "cell_type": "code",
   "execution_count": 141,
   "id": "a4c638a9-0497-438b-a8b1-be1d79d6a8e6",
   "metadata": {},
   "outputs": [
    {
     "data": {
      "text/plain": [
       "55"
      ]
     },
     "execution_count": 141,
     "metadata": {},
     "output_type": "execute_result"
    }
   ],
   "source": [
    "vocab_dict[\"[UNK]\"] = len(vocab_dict)\n",
    "vocab_dict[\"[PAD]\"] = len(vocab_dict)\n",
    "len(vocab_dict)"
   ]
  },
  {
   "cell_type": "code",
   "execution_count": 142,
   "id": "b66a326c-3bdd-4bcb-b0a2-c2bd4f5d93f3",
   "metadata": {},
   "outputs": [],
   "source": [
    "with open('vocab.json', 'w') as vocab_file:\n",
    "    json.dump(vocab_dict, vocab_file)"
   ]
  },
  {
   "cell_type": "code",
   "execution_count": 174,
   "id": "3cebc772-1d1c-4e36-be2a-2af7c15866d8",
   "metadata": {},
   "outputs": [],
   "source": [
    "repo_name = \"wav2vec2-large-xls-r-300m-ru\""
   ]
  },
  {
   "cell_type": "code",
   "execution_count": 175,
   "id": "9d662986-6caa-4080-a367-a2ecdbb20196",
   "metadata": {},
   "outputs": [],
   "source": [
    "tokenizer = Wav2Vec2CTCTokenizer.from_pretrained(\"./\", unk_token=\"[UNK]\", pad_token=\"[PAD]\", word_delimiter_token=\"|\")"
   ]
  },
  {
   "cell_type": "code",
   "execution_count": 176,
   "id": "975cdfb3-58a2-4683-98a7-67b2ba26f396",
   "metadata": {},
   "outputs": [
    {
     "data": {
      "text/plain": [
       "CommitInfo(commit_url='https://huggingface.co/NLPVladimir/wav2vec2-large-xls-r-300m-ru/commit/1685e8a089591d212a5748c8c776719b8a1ad9e1', commit_message='Upload tokenizer', commit_description='', oid='1685e8a089591d212a5748c8c776719b8a1ad9e1', pr_url=None, repo_url=RepoUrl('https://huggingface.co/NLPVladimir/wav2vec2-large-xls-r-300m-ru', endpoint='https://huggingface.co', repo_type='model', repo_id='NLPVladimir/wav2vec2-large-xls-r-300m-ru'), pr_revision=None, pr_num=None)"
      ]
     },
     "execution_count": 176,
     "metadata": {},
     "output_type": "execute_result"
    }
   ],
   "source": [
    "tokenizer.push_to_hub(repo_name)"
   ]
  },
  {
   "cell_type": "code",
   "execution_count": 177,
   "id": "38e3540e-f3be-4226-8d7d-0b4e9f7f5ccd",
   "metadata": {},
   "outputs": [],
   "source": [
    "feature_extractor = Wav2Vec2FeatureExtractor(feature_size=1, sampling_rate=16000, padding_value=0.0, do_normalize=True, return_attention_mask=True)"
   ]
  },
  {
   "cell_type": "code",
   "execution_count": 178,
   "id": "3be02139-cb0e-4dbc-a080-1c9baa9e16ca",
   "metadata": {},
   "outputs": [],
   "source": [
    "processor = Wav2Vec2Processor(feature_extractor=feature_extractor, tokenizer=tokenizer)"
   ]
  },
  {
   "cell_type": "code",
   "execution_count": 180,
   "id": "c65e63e1-d26d-4045-b355-4052fa328cef",
   "metadata": {},
   "outputs": [],
   "source": [
    "common_voice_train = common_voice_train.cast_column(\"audio\", Audio(sampling_rate=16_000))\n",
    "common_voice_test = common_voice_test.cast_column(\"audio\", Audio(sampling_rate=16_000))"
   ]
  },
  {
   "cell_type": "code",
   "execution_count": 181,
   "id": "c64c3093-4d3f-4001-9d01-5a4ab5feef8a",
   "metadata": {},
   "outputs": [
    {
     "ename": "KeyError",
     "evalue": "'sentence'",
     "output_type": "error",
     "traceback": [
      "\u001b[0;31m---------------------------------------------------------------------------\u001b[0m",
      "\u001b[0;31mKeyError\u001b[0m                                  Traceback (most recent call last)",
      "Cell \u001b[0;32mIn[181], line 3\u001b[0m\n\u001b[1;32m      1\u001b[0m rand_int \u001b[38;5;241m=\u001b[39m random\u001b[38;5;241m.\u001b[39mrandint(\u001b[38;5;241m0\u001b[39m, \u001b[38;5;28mlen\u001b[39m(common_voice_train)\u001b[38;5;241m-\u001b[39m\u001b[38;5;241m1\u001b[39m)\n\u001b[0;32m----> 3\u001b[0m \u001b[38;5;28mprint\u001b[39m(common_voice_train[rand_int][\u001b[38;5;124m\"\u001b[39m\u001b[38;5;124msentence\u001b[39m\u001b[38;5;124m\"\u001b[39m])\n\u001b[1;32m      4\u001b[0m ipd\u001b[38;5;241m.\u001b[39mAudio(data\u001b[38;5;241m=\u001b[39mcommon_voice_train[rand_int][\u001b[38;5;124m\"\u001b[39m\u001b[38;5;124maudio\u001b[39m\u001b[38;5;124m\"\u001b[39m][\u001b[38;5;124m\"\u001b[39m\u001b[38;5;124marray\u001b[39m\u001b[38;5;124m\"\u001b[39m], autoplay\u001b[38;5;241m=\u001b[39m\u001b[38;5;28;01mTrue\u001b[39;00m, rate\u001b[38;5;241m=\u001b[39m\u001b[38;5;241m16000\u001b[39m)\n",
      "\u001b[0;31mKeyError\u001b[0m: 'sentence'"
     ]
    }
   ],
   "source": [
    "rand_int = random.randint(0, len(common_voice_train)-1)\n",
    "\n",
    "print(common_voice_train[rand_int][\"sentence\"])\n",
    "ipd.Audio(data=common_voice_train[rand_int][\"audio\"][\"array\"], autoplay=True, rate=16000)"
   ]
  },
  {
   "cell_type": "code",
   "execution_count": 182,
   "id": "7b956762-4638-42c2-b850-49bb2a3fdc00",
   "metadata": {},
   "outputs": [
    {
     "ename": "KeyError",
     "evalue": "'sentence'",
     "output_type": "error",
     "traceback": [
      "\u001b[0;31m---------------------------------------------------------------------------\u001b[0m",
      "\u001b[0;31mKeyError\u001b[0m                                  Traceback (most recent call last)",
      "Cell \u001b[0;32mIn[182], line 3\u001b[0m\n\u001b[1;32m      1\u001b[0m rand_int \u001b[38;5;241m=\u001b[39m random\u001b[38;5;241m.\u001b[39mrandint(\u001b[38;5;241m0\u001b[39m, \u001b[38;5;28mlen\u001b[39m(common_voice_train)\u001b[38;5;241m-\u001b[39m\u001b[38;5;241m1\u001b[39m)\n\u001b[0;32m----> 3\u001b[0m \u001b[38;5;28mprint\u001b[39m(\u001b[38;5;124m\"\u001b[39m\u001b[38;5;124mTarget text:\u001b[39m\u001b[38;5;124m\"\u001b[39m, common_voice_train[rand_int][\u001b[38;5;124m\"\u001b[39m\u001b[38;5;124msentence\u001b[39m\u001b[38;5;124m\"\u001b[39m])\n\u001b[1;32m      4\u001b[0m \u001b[38;5;28mprint\u001b[39m(\u001b[38;5;124m\"\u001b[39m\u001b[38;5;124mInput array shape:\u001b[39m\u001b[38;5;124m\"\u001b[39m, common_voice_train[rand_int][\u001b[38;5;124m\"\u001b[39m\u001b[38;5;124maudio\u001b[39m\u001b[38;5;124m\"\u001b[39m][\u001b[38;5;124m\"\u001b[39m\u001b[38;5;124marray\u001b[39m\u001b[38;5;124m\"\u001b[39m]\u001b[38;5;241m.\u001b[39mshape)\n\u001b[1;32m      5\u001b[0m \u001b[38;5;28mprint\u001b[39m(\u001b[38;5;124m\"\u001b[39m\u001b[38;5;124mSampling rate:\u001b[39m\u001b[38;5;124m\"\u001b[39m, common_voice_train[rand_int][\u001b[38;5;124m\"\u001b[39m\u001b[38;5;124maudio\u001b[39m\u001b[38;5;124m\"\u001b[39m][\u001b[38;5;124m\"\u001b[39m\u001b[38;5;124msampling_rate\u001b[39m\u001b[38;5;124m\"\u001b[39m])\n",
      "\u001b[0;31mKeyError\u001b[0m: 'sentence'"
     ]
    }
   ],
   "source": [
    "rand_int = random.randint(0, len(common_voice_train)-1)\n",
    "\n",
    "print(\"Target text:\", common_voice_train[rand_int][\"sentence\"])\n",
    "print(\"Input array shape:\", common_voice_train[rand_int][\"audio\"][\"array\"].shape)\n",
    "print(\"Sampling rate:\", common_voice_train[rand_int][\"audio\"][\"sampling_rate\"])"
   ]
  },
  {
   "cell_type": "code",
   "execution_count": 183,
   "id": "426578ae-8554-4408-967c-63d2b9e16663",
   "metadata": {},
   "outputs": [],
   "source": [
    "def prepare_dataset(batch):\n",
    "    audio = batch[\"audio\"]\n",
    "\n",
    "    batch[\"input_values\"] = processor(audio[\"array\"], sampling_rate=audio[\"sampling_rate\"]).input_values[0]\n",
    "    batch[\"input_length\"] = len(batch[\"input_values\"])\n",
    "    \n",
    "    with processor.as_target_processor():\n",
    "        batch[\"labels\"] = processor(batch[\"sentence\"]).input_ids\n",
    "    return batch\n"
   ]
  },
  {
   "cell_type": "code",
   "execution_count": 151,
   "id": "626fcce5-b7b8-4f88-a582-475f9ba11097",
   "metadata": {},
   "outputs": [
    {
     "data": {
      "application/vnd.jupyter.widget-view+json": {
       "model_id": "c3d79d9a182241af8251df0fbfc9801e",
       "version_major": 2,
       "version_minor": 0
      },
      "text/plain": [
       "Map:   0%|          | 0/36580 [00:00<?, ? examples/s]"
      ]
     },
     "metadata": {},
     "output_type": "display_data"
    },
    {
     "name": "stderr",
     "output_type": "stream",
     "text": [
      "2025-01-30 14:22:47.648272: E external/local_xla/xla/stream_executor/cuda/cuda_fft.cc:477] Unable to register cuFFT factory: Attempting to register factory for plugin cuFFT when one has already been registered\n",
      "WARNING: All log messages before absl::InitializeLog() is called are written to STDERR\n",
      "E0000 00:00:1738236167.786979 4144880 cuda_dnn.cc:8310] Unable to register cuDNN factory: Attempting to register factory for plugin cuDNN when one has already been registered\n",
      "E0000 00:00:1738236167.827865 4144880 cuda_blas.cc:1418] Unable to register cuBLAS factory: Attempting to register factory for plugin cuBLAS when one has already been registered\n",
      "2025-01-30 14:22:48.161571: I tensorflow/core/platform/cpu_feature_guard.cc:210] This TensorFlow binary is optimized to use available CPU instructions in performance-critical operations.\n",
      "To enable the following instructions: AVX2 FMA, in other operations, rebuild TensorFlow with the appropriate compiler flags.\n",
      "/home/vshilonosov/miniconda3/lib/python3.12/site-packages/transformers/models/wav2vec2/processing_wav2vec2.py:174: UserWarning: `as_target_processor` is deprecated and will be removed in v5 of Transformers. You can process your labels by using the argument `text` of the regular `__call__` method (either in the same call as your audio inputs, or in a separate call.\n",
      "  warnings.warn(\n"
     ]
    },
    {
     "data": {
      "application/vnd.jupyter.widget-view+json": {
       "model_id": "697181057bca4f6e931b4d335ec5da86",
       "version_major": 2,
       "version_minor": 0
      },
      "text/plain": [
       "Map:   0%|          | 0/10203 [00:00<?, ? examples/s]"
      ]
     },
     "metadata": {},
     "output_type": "display_data"
    }
   ],
   "source": [
    "common_voice_train = common_voice_train.map(prepare_dataset, remove_columns=common_voice_train.column_names)\n",
    "common_voice_test = common_voice_test.map(prepare_dataset, remove_columns=common_voice_test.column_names)"
   ]
  },
  {
   "cell_type": "code",
   "execution_count": 184,
   "id": "10a8ea73-faf8-43f6-93ef-9abfa5808ec3",
   "metadata": {},
   "outputs": [],
   "source": [
    "@dataclass\n",
    "class DataCollatorCTCWithPadding:\n",
    "    \n",
    "    processor: Wav2Vec2Processor\n",
    "    padding: Union[bool, str] = True\n",
    "\n",
    "    def __call__(self, features: List[Dict[str, Union[List[int], torch.Tensor]]]) -> Dict[str, torch.Tensor]:\n",
    "\n",
    "        input_features = [{\"input_values\": feature[\"input_values\"]} for feature in features]\n",
    "        label_features = [{\"input_ids\": feature[\"labels\"]} for feature in features]\n",
    "\n",
    "        batch = self.processor.pad(\n",
    "            input_features,\n",
    "            padding=self.padding,\n",
    "            return_tensors=\"pt\",\n",
    "        )\n",
    "        with self.processor.as_target_processor():\n",
    "            labels_batch = self.processor.pad(\n",
    "                label_features,\n",
    "                padding=self.padding,\n",
    "                return_tensors=\"pt\",\n",
    "            )\n",
    "\n",
    "        labels = labels_batch[\"input_ids\"].masked_fill(labels_batch.attention_mask.ne(1), -100)\n",
    "\n",
    "        batch[\"labels\"] = labels\n",
    "\n",
    "        return batch\n"
   ]
  },
  {
   "cell_type": "code",
   "execution_count": 185,
   "id": "b725e9c0-f8e0-4c48-a027-49fa53a0950d",
   "metadata": {},
   "outputs": [],
   "source": [
    "data_collator = DataCollatorCTCWithPadding(processor=processor, padding=True)"
   ]
  },
  {
   "cell_type": "code",
   "execution_count": 186,
   "id": "6be6d2d7-535a-4321-8cce-16210b383e72",
   "metadata": {},
   "outputs": [],
   "source": [
    "wer_metric = evaluate.load(\"wer\")"
   ]
  },
  {
   "cell_type": "code",
   "execution_count": 216,
   "id": "1619dd7b-e635-4202-aea4-a356329519ff",
   "metadata": {},
   "outputs": [],
   "source": [
    "def compute_metrics(pred):\n",
    "    pred_logits = pred.predictions\n",
    "    pred_ids = np.argmax(pred_logits, axis=-1)\n",
    "\n",
    "    pred.label_ids[pred.label_ids == -100] = processor.tokenizer.pad_token_id\n",
    "\n",
    "    pred_str = processor.batch_decode(pred_ids)\n",
    "    label_str = processor.batch_decode(pred.label_ids, group_tokens=False)\n",
    "\n",
    "    wer = wer_metric.compute(predictions=pred_str, references=label_str)\n",
    "\n",
    "    return {\"wer\": wer}"
   ]
  },
  {
   "cell_type": "code",
   "execution_count": 217,
   "id": "5cee648b-93a7-45e2-a338-273e457849c3",
   "metadata": {},
   "outputs": [
    {
     "name": "stderr",
     "output_type": "stream",
     "text": [
      "Some weights of Wav2Vec2ForCTC were not initialized from the model checkpoint at facebook/wav2vec2-xls-r-300m and are newly initialized: ['lm_head.bias', 'lm_head.weight']\n",
      "You should probably TRAIN this model on a down-stream task to be able to use it for predictions and inference.\n"
     ]
    }
   ],
   "source": [
    "model = Wav2Vec2ForCTC.from_pretrained(\n",
    "    \"facebook/wav2vec2-xls-r-300m\", \n",
    "    attention_dropout=0.0,\n",
    "    hidden_dropout=0.0,\n",
    "    feat_proj_dropout=0.0,\n",
    "    mask_time_prob=0.05,\n",
    "    layerdrop=0.0,\n",
    "    ctc_loss_reduction=\"mean\", \n",
    "    pad_token_id=processor.tokenizer.pad_token_id,\n",
    "    vocab_size=len(processor.tokenizer),\n",
    ")"
   ]
  },
  {
   "cell_type": "code",
   "execution_count": 218,
   "id": "e7ea8c59-7665-4f41-ad32-7dac13d309c1",
   "metadata": {},
   "outputs": [],
   "source": [
    "model.freeze_feature_encoder()"
   ]
  },
  {
   "cell_type": "code",
   "execution_count": 224,
   "id": "77370c08-5862-4090-9855-cde3b990382c",
   "metadata": {},
   "outputs": [],
   "source": [
    "training_args = TrainingArguments(\n",
    "  output_dir=repo_name,\n",
    "  group_by_length=True,\n",
    "  per_device_train_batch_size=2,\n",
    "  gradient_accumulation_steps=2,\n",
    "  eval_strategy=\"steps\",\n",
    "  num_train_epochs=1,\n",
    "  gradient_checkpointing=True,\n",
    "  fp16=True,\n",
    "  save_steps=2,\n",
    "  eval_steps=2,\n",
    "  logging_steps=2,\n",
    "  learning_rate=3e-4,\n",
    "  warmup_steps=2,\n",
    "  save_total_limit=2,\n",
    "  push_to_hub=True,\n",
    ")"
   ]
  },
  {
   "cell_type": "code",
   "execution_count": 225,
   "id": "ccd17e4c-9982-4c3c-908b-8447bf1802ef",
   "metadata": {},
   "outputs": [
    {
     "name": "stderr",
     "output_type": "stream",
     "text": [
      "Detected kernel version 5.4.0, which is below the recommended minimum of 5.5.0; this can cause the process to hang. It is recommended to upgrade the kernel to the minimum version or higher.\n"
     ]
    }
   ],
   "source": [
    "trainer = Trainer(\n",
    "    model=model,\n",
    "    data_collator=data_collator,\n",
    "    args=training_args,\n",
    "    compute_metrics=compute_metrics,\n",
    "    train_dataset=common_voice_train,\n",
    "    eval_dataset=common_voice_test,\n",
    "    processing_class=processor.feature_extractor,\n",
    ")\n"
   ]
  },
  {
   "cell_type": "code",
   "execution_count": null,
   "id": "7a2c2808-89d0-48ad-90e5-ed3fafb775b6",
   "metadata": {},
   "outputs": [],
   "source": [
    "trainer.train()"
   ]
  },
  {
   "cell_type": "code",
   "execution_count": null,
   "id": "035f5428-8977-427f-a76d-0fe959ee73ae",
   "metadata": {},
   "outputs": [],
   "source": []
  }
 ],
 "metadata": {
  "kernelspec": {
   "display_name": "Python 3 (ipykernel)",
   "language": "python",
   "name": "python3"
  },
  "language_info": {
   "codemirror_mode": {
    "name": "ipython",
    "version": 3
   },
   "file_extension": ".py",
   "mimetype": "text/x-python",
   "name": "python",
   "nbconvert_exporter": "python",
   "pygments_lexer": "ipython3",
   "version": "3.12.4"
  }
 },
 "nbformat": 4,
 "nbformat_minor": 5
}
